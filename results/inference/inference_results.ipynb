{
 "cells": [
  {
   "cell_type": "code",
   "execution_count": 690,
   "id": "08235a92",
   "metadata": {},
   "outputs": [],
   "source": [
    "import pandas as pd\n",
    "import numpy as np"
   ]
  },
  {
   "cell_type": "code",
   "execution_count": 691,
   "id": "5bfb185b",
   "metadata": {},
   "outputs": [],
   "source": [
    "sff_preds_0 = pd.read_csv('/Users/santiagoromano/Documents/code/MasterThesis/results/inference/predictions_cluster_0_sff.csv')\n",
    "sff_preds_1 = pd.read_csv('/Users/santiagoromano/Documents/code/MasterThesis/results/inference/predictions_cluster_1_sff.csv')\n",
    "sff_preds_2 = pd.read_csv('/Users/santiagoromano/Documents/code/MasterThesis/results/inference/predictions_cluster_2_sff.csv')\n",
    "\n",
    "sff_preds_0.drop(columns=['cant_vta_pred_sff_median'], inplace=True)\n",
    "sff_preds_1.drop(columns=['cant_vta_pred_sff_median'], inplace=True)\n",
    "sff_preds_2.drop(columns=['cant_vta_pred_sff_median'], inplace=True)\n",
    "\n",
    "sff_preds = pd.concat([sff_preds_0, sff_preds_1, sff_preds_2], ignore_index=True)\n",
    "\n",
    "\n",
    "mean_preds_0 = pd.read_csv('/Users/santiagoromano/Documents/code/MasterThesis/results/inference/predictions_cluster_0_mean_sale.csv')\n",
    "mean_preds_1 = pd.read_csv('/Users/santiagoromano/Documents/code/MasterThesis/results/inference/predictions_cluster_1_mean_sale.csv')\n",
    "mean_preds_2 = pd.read_csv('/Users/santiagoromano/Documents/code/MasterThesis/results/inference/predictions_cluster_2_mean_sale.csv')\n",
    "\n",
    "mean_preds = pd.concat([mean_preds_0, mean_preds_1, mean_preds_2], ignore_index=True)"
   ]
  },
  {
   "cell_type": "code",
   "execution_count": 692,
   "id": "b90c9382",
   "metadata": {},
   "outputs": [
    {
     "name": "stdout",
     "output_type": "stream",
     "text": [
      "(19200, 6) (19200, 6)\n"
     ]
    },
    {
     "data": {
      "text/plain": [
       "Index(['pdv_codigo', 'fecha_comercial', 'codigo_barras_sku', 'cant_vta',\n",
       "       'cluster_sku', 'cant_vta_pred_sff_mean'],\n",
       "      dtype='object')"
      ]
     },
     "execution_count": 692,
     "metadata": {},
     "output_type": "execute_result"
    }
   ],
   "source": [
    "print(sff_preds.shape\n",
    "      , mean_preds.shape)\n",
    "\n",
    "sff_preds.columns"
   ]
  },
  {
   "cell_type": "code",
   "execution_count": 693,
   "id": "6e472d22",
   "metadata": {},
   "outputs": [
    {
     "data": {
      "application/vnd.microsoft.datawrangler.viewer.v0+json": {
       "columns": [
        {
         "name": "index",
         "rawType": "int64",
         "type": "integer"
        },
        {
         "name": "pdv_codigo",
         "rawType": "int64",
         "type": "integer"
        },
        {
         "name": "fecha_comercial",
         "rawType": "object",
         "type": "string"
        },
        {
         "name": "codigo_barras_sku",
         "rawType": "int64",
         "type": "integer"
        },
        {
         "name": "cant_vta",
         "rawType": "float64",
         "type": "float"
        },
        {
         "name": "cluster_sku",
         "rawType": "int64",
         "type": "integer"
        },
        {
         "name": "cant_vta_pred_sff_mean",
         "rawType": "float64",
         "type": "float"
        },
        {
         "name": "cant_vta_pred_mean_pdv_sku",
         "rawType": "float64",
         "type": "float"
        }
       ],
       "ref": "84dba28b-a676-413b-bb82-987ef0f51f2a",
       "rows": [
        [
         "0",
         "1",
         "2024-11-01",
         "7891991000826",
         "2800.0",
         "0",
         "2583.404",
         "1925.0"
        ],
        [
         "1",
         "1",
         "2024-11-02",
         "7891991000826",
         "5600.0",
         "0",
         "2319.0317",
         "1925.0"
        ],
        [
         "2",
         "1",
         "2024-11-03",
         "7891991000826",
         "350.0",
         "0",
         "1840.0624",
         "1925.0"
        ],
        [
         "3",
         "1",
         "2024-11-04",
         "7891991000826",
         "2450.0",
         "0",
         "1003.35065",
         "1925.0"
        ],
        [
         "4",
         "1",
         "2024-11-05",
         "7891991000826",
         "1050.0",
         "0",
         "1508.6266",
         "1925.0"
        ],
        [
         "5",
         "1",
         "2024-11-06",
         "7891991000826",
         "3150.0",
         "0",
         "1566.7263",
         "1925.0"
        ],
        [
         "6",
         "1",
         "2024-11-07",
         "7891991000826",
         "1750.0",
         "0",
         "2202.8757",
         "1925.0"
        ],
        [
         "7",
         "1",
         "2024-11-08",
         "7891991000826",
         "4900.0",
         "0",
         "2660.8296",
         "1925.0"
        ],
        [
         "8",
         "1",
         "2024-11-09",
         "7891991000826",
         "3850.0",
         "0",
         "2813.5713",
         "1925.0"
        ],
        [
         "9",
         "1",
         "2024-11-10",
         "7891991000826",
         "4550.0",
         "0",
         "1622.805",
         "1925.0"
        ],
        [
         "10",
         "1",
         "2024-11-11",
         "7891991000826",
         "2800.0",
         "0",
         "1642.043",
         "1925.0"
        ],
        [
         "11",
         "1",
         "2024-11-12",
         "7891991000826",
         "2800.0",
         "0",
         "1616.7385",
         "1925.0"
        ],
        [
         "12",
         "1",
         "2024-11-13",
         "7891991000826",
         "4900.0",
         "0",
         "2137.8623",
         "1925.0"
        ],
        [
         "13",
         "1",
         "2024-11-14",
         "7891991000826",
         "4550.0",
         "0",
         "2146.94",
         "1925.0"
        ],
        [
         "14",
         "1",
         "2024-11-15",
         "7891991000826",
         "7000.0",
         "0",
         "2199.0562",
         "1925.0"
        ],
        [
         "15",
         "1",
         "2024-11-16",
         "7891991000826",
         "3850.0",
         "0",
         "2676.2097",
         "1925.0"
        ],
        [
         "16",
         "1",
         "2024-11-17",
         "7891991000826",
         "2100.0",
         "0",
         "1913.64",
         "1925.0"
        ],
        [
         "17",
         "1",
         "2024-11-18",
         "7891991000826",
         "3150.0",
         "0",
         "1655.5968",
         "1925.0"
        ],
        [
         "18",
         "1",
         "2024-11-19",
         "7891991000826",
         "2800.0",
         "0",
         "2044.3219",
         "1925.0"
        ],
        [
         "19",
         "1",
         "2024-11-20",
         "7891991000826",
         "1750.0",
         "0",
         "1375.5869",
         "1925.0"
        ],
        [
         "20",
         "1",
         "2024-11-21",
         "7891991000826",
         "8050.0",
         "0",
         "2125.998",
         "1925.0"
        ],
        [
         "21",
         "1",
         "2024-11-22",
         "7891991000826",
         "3850.0",
         "0",
         "2074.2717",
         "1925.0"
        ],
        [
         "22",
         "1",
         "2024-11-23",
         "7891991000826",
         "5950.0",
         "0",
         "2872.9663",
         "1925.0"
        ],
        [
         "23",
         "1",
         "2024-11-24",
         "7891991000826",
         "4550.0",
         "0",
         "1806.0342",
         "1925.0"
        ],
        [
         "24",
         "1",
         "2024-11-25",
         "7891991000826",
         "5950.0",
         "0",
         "1801.6196",
         "1925.0"
        ],
        [
         "25",
         "1",
         "2024-11-26",
         "7891991000826",
         "5250.0",
         "0",
         "1817.112",
         "1925.0"
        ],
        [
         "26",
         "1",
         "2024-11-27",
         "7891991000826",
         "5250.0",
         "0",
         "1893.7037",
         "1925.0"
        ],
        [
         "27",
         "1",
         "2024-11-28",
         "7891991000826",
         "3500.0",
         "0",
         "2385.0166",
         "1925.0"
        ],
        [
         "28",
         "1",
         "2024-11-29",
         "7891991000826",
         "6300.0",
         "0",
         "3184.9084",
         "1925.0"
        ],
        [
         "29",
         "1",
         "2024-11-30",
         "7891991000826",
         "6650.0",
         "0",
         "2148.306",
         "1925.0"
        ],
        [
         "30",
         "1",
         "2024-11-01",
         "7894900010015",
         "21000.0",
         "0",
         "23342.521",
         "18783.33333333333"
        ],
        [
         "31",
         "1",
         "2024-11-02",
         "7894900010015",
         "21000.0",
         "0",
         "22737.223",
         "18783.33333333333"
        ],
        [
         "32",
         "1",
         "2024-11-03",
         "7894900010015",
         "19600.0",
         "0",
         "17224.494",
         "18783.33333333333"
        ],
        [
         "33",
         "1",
         "2024-11-04",
         "7894900010015",
         "14350.0",
         "0",
         "16950.723",
         "18783.33333333333"
        ],
        [
         "34",
         "1",
         "2024-11-05",
         "7894900010015",
         "19600.0",
         "0",
         "16043.185",
         "18783.33333333333"
        ],
        [
         "35",
         "1",
         "2024-11-06",
         "7894900010015",
         "21700.0",
         "0",
         "19334.82",
         "18783.33333333333"
        ],
        [
         "36",
         "1",
         "2024-11-07",
         "7894900010015",
         "14700.0",
         "0",
         "21219.787",
         "18783.33333333333"
        ],
        [
         "37",
         "1",
         "2024-11-08",
         "7894900010015",
         "15400.0",
         "0",
         "25270.527",
         "18783.33333333333"
        ],
        [
         "38",
         "1",
         "2024-11-09",
         "7894900010015",
         "36400.0",
         "0",
         "24368.352",
         "18783.33333333333"
        ],
        [
         "39",
         "1",
         "2024-11-10",
         "7894900010015",
         "15050.0",
         "0",
         "17892.96",
         "18783.33333333333"
        ],
        [
         "40",
         "1",
         "2024-11-11",
         "7894900010015",
         "17150.0",
         "0",
         "16033.613",
         "18783.33333333333"
        ],
        [
         "41",
         "1",
         "2024-11-12",
         "7894900010015",
         "27300.0",
         "0",
         "17140.17",
         "18783.33333333333"
        ],
        [
         "42",
         "1",
         "2024-11-13",
         "7894900010015",
         "12600.0",
         "0",
         "17848.207",
         "18783.33333333333"
        ],
        [
         "43",
         "1",
         "2024-11-14",
         "7894900010015",
         "15050.0",
         "0",
         "21521.65",
         "18783.33333333333"
        ],
        [
         "44",
         "1",
         "2024-11-15",
         "7894900010015",
         "30450.0",
         "0",
         "24321.385",
         "18783.33333333333"
        ],
        [
         "45",
         "1",
         "2024-11-16",
         "7894900010015",
         "18550.0",
         "0",
         "23812.271",
         "18783.33333333333"
        ],
        [
         "46",
         "1",
         "2024-11-17",
         "7894900010015",
         "5600.0",
         "0",
         "18533.275",
         "18783.33333333333"
        ],
        [
         "47",
         "1",
         "2024-11-18",
         "7894900010015",
         "25900.0",
         "0",
         "17095.635",
         "18783.33333333333"
        ],
        [
         "48",
         "1",
         "2024-11-19",
         "7894900010015",
         "15750.0",
         "0",
         "16850.043",
         "18783.33333333333"
        ],
        [
         "49",
         "1",
         "2024-11-20",
         "7894900010015",
         "21350.0",
         "0",
         "18420.686",
         "18783.33333333333"
        ]
       ],
       "shape": {
        "columns": 7,
        "rows": 19200
       }
      },
      "text/html": [
       "<div>\n",
       "<style scoped>\n",
       "    .dataframe tbody tr th:only-of-type {\n",
       "        vertical-align: middle;\n",
       "    }\n",
       "\n",
       "    .dataframe tbody tr th {\n",
       "        vertical-align: top;\n",
       "    }\n",
       "\n",
       "    .dataframe thead th {\n",
       "        text-align: right;\n",
       "    }\n",
       "</style>\n",
       "<table border=\"1\" class=\"dataframe\">\n",
       "  <thead>\n",
       "    <tr style=\"text-align: right;\">\n",
       "      <th></th>\n",
       "      <th>pdv_codigo</th>\n",
       "      <th>fecha_comercial</th>\n",
       "      <th>codigo_barras_sku</th>\n",
       "      <th>cant_vta</th>\n",
       "      <th>cluster_sku</th>\n",
       "      <th>cant_vta_pred_sff_mean</th>\n",
       "      <th>cant_vta_pred_mean_pdv_sku</th>\n",
       "    </tr>\n",
       "  </thead>\n",
       "  <tbody>\n",
       "    <tr>\n",
       "      <th>0</th>\n",
       "      <td>1</td>\n",
       "      <td>2024-11-01</td>\n",
       "      <td>7891991000826</td>\n",
       "      <td>2800.0</td>\n",
       "      <td>0</td>\n",
       "      <td>2583.40400</td>\n",
       "      <td>1925.000000</td>\n",
       "    </tr>\n",
       "    <tr>\n",
       "      <th>1</th>\n",
       "      <td>1</td>\n",
       "      <td>2024-11-02</td>\n",
       "      <td>7891991000826</td>\n",
       "      <td>5600.0</td>\n",
       "      <td>0</td>\n",
       "      <td>2319.03170</td>\n",
       "      <td>1925.000000</td>\n",
       "    </tr>\n",
       "    <tr>\n",
       "      <th>2</th>\n",
       "      <td>1</td>\n",
       "      <td>2024-11-03</td>\n",
       "      <td>7891991000826</td>\n",
       "      <td>350.0</td>\n",
       "      <td>0</td>\n",
       "      <td>1840.06240</td>\n",
       "      <td>1925.000000</td>\n",
       "    </tr>\n",
       "    <tr>\n",
       "      <th>3</th>\n",
       "      <td>1</td>\n",
       "      <td>2024-11-04</td>\n",
       "      <td>7891991000826</td>\n",
       "      <td>2450.0</td>\n",
       "      <td>0</td>\n",
       "      <td>1003.35065</td>\n",
       "      <td>1925.000000</td>\n",
       "    </tr>\n",
       "    <tr>\n",
       "      <th>4</th>\n",
       "      <td>1</td>\n",
       "      <td>2024-11-05</td>\n",
       "      <td>7891991000826</td>\n",
       "      <td>1050.0</td>\n",
       "      <td>0</td>\n",
       "      <td>1508.62660</td>\n",
       "      <td>1925.000000</td>\n",
       "    </tr>\n",
       "    <tr>\n",
       "      <th>...</th>\n",
       "      <td>...</td>\n",
       "      <td>...</td>\n",
       "      <td>...</td>\n",
       "      <td>...</td>\n",
       "      <td>...</td>\n",
       "      <td>...</td>\n",
       "      <td>...</td>\n",
       "    </tr>\n",
       "    <tr>\n",
       "      <th>19195</th>\n",
       "      <td>30</td>\n",
       "      <td>2024-11-26</td>\n",
       "      <td>7897395099329</td>\n",
       "      <td>7000.0</td>\n",
       "      <td>2</td>\n",
       "      <td>12934.63400</td>\n",
       "      <td>23846.666667</td>\n",
       "    </tr>\n",
       "    <tr>\n",
       "      <th>19196</th>\n",
       "      <td>30</td>\n",
       "      <td>2024-11-27</td>\n",
       "      <td>7897395099329</td>\n",
       "      <td>81550.0</td>\n",
       "      <td>2</td>\n",
       "      <td>12946.59300</td>\n",
       "      <td>23846.666667</td>\n",
       "    </tr>\n",
       "    <tr>\n",
       "      <th>19197</th>\n",
       "      <td>30</td>\n",
       "      <td>2024-11-28</td>\n",
       "      <td>7897395099329</td>\n",
       "      <td>23800.0</td>\n",
       "      <td>2</td>\n",
       "      <td>21864.17600</td>\n",
       "      <td>23846.666667</td>\n",
       "    </tr>\n",
       "    <tr>\n",
       "      <th>19198</th>\n",
       "      <td>30</td>\n",
       "      <td>2024-11-29</td>\n",
       "      <td>7897395099329</td>\n",
       "      <td>101850.0</td>\n",
       "      <td>2</td>\n",
       "      <td>42020.43000</td>\n",
       "      <td>23846.666667</td>\n",
       "    </tr>\n",
       "    <tr>\n",
       "      <th>19199</th>\n",
       "      <td>30</td>\n",
       "      <td>2024-11-30</td>\n",
       "      <td>7897395099329</td>\n",
       "      <td>17150.0</td>\n",
       "      <td>2</td>\n",
       "      <td>33518.83200</td>\n",
       "      <td>23846.666667</td>\n",
       "    </tr>\n",
       "  </tbody>\n",
       "</table>\n",
       "<p>19200 rows × 7 columns</p>\n",
       "</div>"
      ],
      "text/plain": [
       "       pdv_codigo fecha_comercial  codigo_barras_sku  cant_vta  cluster_sku  \\\n",
       "0               1      2024-11-01      7891991000826    2800.0            0   \n",
       "1               1      2024-11-02      7891991000826    5600.0            0   \n",
       "2               1      2024-11-03      7891991000826     350.0            0   \n",
       "3               1      2024-11-04      7891991000826    2450.0            0   \n",
       "4               1      2024-11-05      7891991000826    1050.0            0   \n",
       "...           ...             ...                ...       ...          ...   \n",
       "19195          30      2024-11-26      7897395099329    7000.0            2   \n",
       "19196          30      2024-11-27      7897395099329   81550.0            2   \n",
       "19197          30      2024-11-28      7897395099329   23800.0            2   \n",
       "19198          30      2024-11-29      7897395099329  101850.0            2   \n",
       "19199          30      2024-11-30      7897395099329   17150.0            2   \n",
       "\n",
       "       cant_vta_pred_sff_mean  cant_vta_pred_mean_pdv_sku  \n",
       "0                  2583.40400                 1925.000000  \n",
       "1                  2319.03170                 1925.000000  \n",
       "2                  1840.06240                 1925.000000  \n",
       "3                  1003.35065                 1925.000000  \n",
       "4                  1508.62660                 1925.000000  \n",
       "...                       ...                         ...  \n",
       "19195             12934.63400                23846.666667  \n",
       "19196             12946.59300                23846.666667  \n",
       "19197             21864.17600                23846.666667  \n",
       "19198             42020.43000                23846.666667  \n",
       "19199             33518.83200                23846.666667  \n",
       "\n",
       "[19200 rows x 7 columns]"
      ]
     },
     "execution_count": 693,
     "metadata": {},
     "output_type": "execute_result"
    }
   ],
   "source": [
    "preds = sff_preds.merge(mean_preds, on=['pdv_codigo', 'fecha_comercial', 'codigo_barras_sku', 'cant_vta',\n",
    "       'cluster_sku'], how='inner' )\n",
    "preds"
   ]
  },
  {
   "cell_type": "code",
   "execution_count": 694,
   "id": "6e46c244",
   "metadata": {},
   "outputs": [],
   "source": [
    "def inference(start_simulation_date, end_simulation_date, preds, unit_cost , price_cost, cluster = None):\n",
    "    preds = preds[(preds['fecha_comercial'] <= end_simulation_date) &\n",
    "              (preds['fecha_comercial'] >= start_simulation_date)]\n",
    "    \n",
    "    if cluster is not None:\n",
    "        preds = preds[preds['cluster_sku'] == cluster]\n",
    "    \n",
    "    group_sum = preds.groupby(['pdv_codigo', 'codigo_barras_sku'])[\n",
    "    ['cant_vta_pred_sff_mean', 'cant_vta_pred_mean_pdv_sku']\n",
    "    ].sum().reset_index()\n",
    "\n",
    "    preds_merged = preds.merge(group_sum, on=['pdv_codigo', 'codigo_barras_sku'], suffixes=('', '_total'))\n",
    "\n",
    "    preds_merged['sff_balance'] = preds_merged['cant_vta_pred_sff_mean_total'] - preds_merged.groupby(['pdv_codigo', 'codigo_barras_sku'])['cant_vta'].cumsum()\n",
    "    preds_merged['mean_balance'] = preds_merged['cant_vta_pred_mean_pdv_sku_total'] - preds_merged.groupby(['pdv_codigo', 'codigo_barras_sku'])['cant_vta'].cumsum()\n",
    "\n",
    "    final_balance = preds_merged[preds_merged['fecha_comercial'] == end_simulation_date][\n",
    "    ['pdv_codigo', 'codigo_barras_sku', 'sff_balance', 'mean_balance']\n",
    "    ]\n",
    "    final_balance['sff_balance'] = round(final_balance['sff_balance'], 0)\n",
    "    final_balance['mean_balance'] = round(final_balance['mean_balance'], 0)\n",
    "\n",
    "    final_balance = final_balance.sort_values(by=['codigo_barras_sku', 'pdv_codigo']).reset_index(drop=True)\n",
    "\n",
    "    final_balance['sff_cost'] = final_balance['sff_balance'].apply(\n",
    "        lambda x: x * unit_cost if x > 0 else (x * price_cost)* -1\n",
    "    )\n",
    "    final_balance['mean_cost'] = final_balance['mean_balance'].apply(\n",
    "        lambda x: x * unit_cost if x > 0 else (x * price_cost)* -1\n",
    "    )\n",
    "    final_balance['sff_stockout'] = final_balance['sff_balance'].apply(lambda x: True if x < 0 else False)\n",
    "    final_balance['mean_stockout'] = final_balance['mean_balance'].apply(lambda x: True if x < 0 else False)\n",
    "    final_balance['sff_stockout'].sum(), final_balance['mean_stockout'].sum()\n",
    "    \n",
    "    return final_balance\n"
   ]
  },
  {
   "cell_type": "code",
   "execution_count": 695,
   "id": "340c63c5",
   "metadata": {},
   "outputs": [
    {
     "name": "stdout",
     "output_type": "stream",
     "text": [
      "(640, 2)\n",
      "(219, 2)\n",
      "(198, 2)\n",
      "(223, 2)\n"
     ]
    }
   ],
   "source": [
    "print(preds[['codigo_barras_sku', 'pdv_codigo']].drop_duplicates().shape)\n",
    "\n",
    "\n",
    "print(preds[preds['cluster_sku'] == 0][['codigo_barras_sku', 'pdv_codigo']].drop_duplicates().shape)\n",
    "print(preds[preds['cluster_sku'] == 1][['codigo_barras_sku', 'pdv_codigo']].drop_duplicates().shape)\n",
    "print(preds[preds['cluster_sku'] == 2][['codigo_barras_sku', 'pdv_codigo']].drop_duplicates().shape)"
   ]
  },
  {
   "cell_type": "code",
   "execution_count": 696,
   "id": "1d576e5c",
   "metadata": {},
   "outputs": [
    {
     "name": "stdout",
     "output_type": "stream",
     "text": [
      "69664130.45000002 73317674.8\n",
      "3653544.349999979\n"
     ]
    }
   ],
   "source": [
    "start_simulation_date = '2024-11-01'\n",
    "end_simulation_date = '2024-11-10'\n",
    "\n",
    "unit_cost = 0.2\n",
    "price_cost = 0.65\n",
    "final_balance = inference(start_simulation_date, end_simulation_date, preds, unit_cost, price_cost)\n",
    "\n",
    "benefit = final_balance['mean_cost'].sum() - final_balance['sff_cost'].sum()\n",
    "\n",
    "print(final_balance['sff_cost'].sum(), final_balance['mean_cost'].sum())\n",
    "print(benefit)"
   ]
  },
  {
   "cell_type": "code",
   "execution_count": 697,
   "id": "4ee5557c",
   "metadata": {},
   "outputs": [
    {
     "data": {
      "text/plain": [
       "(sff_stockout\n",
       " True     377\n",
       " False    263\n",
       " Name: count, dtype: int64,\n",
       " mean_stockout\n",
       " True     439\n",
       " False    201\n",
       " Name: count, dtype: int64)"
      ]
     },
     "execution_count": 697,
     "metadata": {},
     "output_type": "execute_result"
    }
   ],
   "source": [
    "final_balance['sff_stockout'].value_counts(), final_balance['mean_stockout'].value_counts()"
   ]
  },
  {
   "cell_type": "code",
   "execution_count": 698,
   "id": "518d1702",
   "metadata": {},
   "outputs": [
    {
     "name": "stdout",
     "output_type": "stream",
     "text": [
      "56952.178125\n"
     ]
    }
   ],
   "source": [
    "print(preds['cant_vta'].mean())"
   ]
  },
  {
   "cell_type": "code",
   "execution_count": 699,
   "id": "9bc8f5d1",
   "metadata": {},
   "outputs": [
    {
     "data": {
      "text/plain": [
       "(sff_stockout\n",
       " True     377\n",
       " False    263\n",
       " Name: count, dtype: int64,\n",
       " mean_stockout\n",
       " True     439\n",
       " False    201\n",
       " Name: count, dtype: int64)"
      ]
     },
     "execution_count": 699,
     "metadata": {},
     "output_type": "execute_result"
    }
   ],
   "source": [
    "final_balance['sff_stockout'].value_counts(), final_balance['mean_stockout'].value_counts()"
   ]
  },
  {
   "cell_type": "code",
   "execution_count": 700,
   "id": "0f575551",
   "metadata": {},
   "outputs": [
    {
     "name": "stdout",
     "output_type": "stream",
     "text": [
      "units\n",
      "overstock ssf  sff_balance    41300546.0\n",
      "dtype: float64\n",
      "stockout ssf  sff_balance   -94467725.0\n",
      "dtype: float64\n",
      "-------------\n",
      "overstock mean  mean_balance    36610765.0\n",
      "dtype: float64\n",
      "stockout mean  mean_balance   -101531572.0\n",
      "dtype: float64\n",
      "-------------\n",
      "AVG. SFF BALANCE sff_balance   -83073.717188\n",
      "dtype: float64\n",
      "AVG. MEAN BALANCE mean_balance   -101438.760938\n",
      "dtype: float64\n",
      "----------------------------------------\n",
      "costs\n",
      "overstock ssf  sff_cost    8260109.2\n",
      "dtype: float64\n",
      "stockout ssff  sff_cost    61404021.25\n",
      "dtype: float64\n",
      "-------------\n",
      "overstock mean   mean_cost    7322153.0\n",
      "dtype: float64\n",
      "stockout mean   mean_cost    65995521.8\n",
      "dtype: float64\n"
     ]
    }
   ],
   "source": [
    "print('units')\n",
    "print( 'overstock ssf ',final_balance[final_balance['sff_stockout'] == False][['sff_balance']].sum())\n",
    "print(  'stockout ssf ', final_balance[final_balance['sff_stockout'] == True][['sff_balance']].sum())\n",
    "print('-------------')\n",
    "print( 'overstock mean ', final_balance[final_balance['mean_stockout'] == False][['mean_balance']].sum())\n",
    "print(  'stockout mean ', final_balance[final_balance['mean_stockout'] == True][['mean_balance']].sum())\n",
    "print('-------------')\n",
    "print('AVG. SFF BALANCE', final_balance[['sff_balance']].mean())\n",
    "print('AVG. MEAN BALANCE', final_balance[['mean_balance']].mean())\n",
    "print('----------------------------------------')\n",
    "print('costs')\n",
    "print( 'overstock ssf ',final_balance[final_balance['sff_stockout'] == False][['sff_cost']].sum())\n",
    "print(  'stockout ssff ', final_balance[final_balance['sff_stockout'] == True][['sff_cost']].sum())\n",
    "print('-------------')\n",
    "print( 'overstock mean  ', final_balance[final_balance['mean_stockout'] == False][['mean_cost']].sum())\n",
    "print(  'stockout mean  ', final_balance[final_balance['mean_stockout'] == True][['mean_cost']].sum())"
   ]
  },
  {
   "cell_type": "code",
   "execution_count": 615,
   "id": "49460611",
   "metadata": {},
   "outputs": [
    {
     "data": {
      "text/plain": [
       "29447.89140625"
      ]
     },
     "execution_count": 615,
     "metadata": {},
     "output_type": "execute_result"
    }
   ],
   "source": [
    "benefit / 640"
   ]
  },
  {
   "cell_type": "code",
   "execution_count": 616,
   "id": "f7d9c02b",
   "metadata": {},
   "outputs": [
    {
     "name": "stdout",
     "output_type": "stream",
     "text": [
      "56952.178125\n",
      "15345.791476407914\n",
      "121911.59090909091\n",
      "40135.29446935725\n"
     ]
    }
   ],
   "source": [
    "print(preds['cant_vta'].mean())\n",
    "\n",
    "print(preds[preds['cluster_sku'] == 0]['cant_vta'].mean())\n",
    "\n",
    "print(preds[preds['cluster_sku'] == 1]['cant_vta'].mean())\n",
    "\n",
    "print(preds[preds['cluster_sku'] == 2]['cant_vta'].mean())\n",
    "\n"
   ]
  },
  {
   "cell_type": "markdown",
   "id": "78fde1a9",
   "metadata": {},
   "source": [
    "# Cluster 0"
   ]
  },
  {
   "cell_type": "code",
   "execution_count": 701,
   "id": "4858a01c",
   "metadata": {},
   "outputs": [
    {
     "name": "stdout",
     "output_type": "stream",
     "text": [
      "4782755.899999999 4289219.15\n",
      "-493536.74999999907\n"
     ]
    }
   ],
   "source": [
    "cluster = 0\n",
    "final_balance = inference(start_simulation_date, end_simulation_date, preds, unit_cost, price_cost, cluster)\n",
    "\n",
    "print(final_balance['sff_cost'].sum(), final_balance['mean_cost'].sum())\n",
    "print(final_balance['mean_cost'].sum() - final_balance['sff_cost'].sum())"
   ]
  },
  {
   "cell_type": "code",
   "execution_count": 702,
   "id": "92c9bef5",
   "metadata": {},
   "outputs": [
    {
     "data": {
      "text/plain": [
       "(sff_stockout\n",
       " True     139\n",
       " False     80\n",
       " Name: count, dtype: int64,\n",
       " mean_stockout\n",
       " True     120\n",
       " False     99\n",
       " Name: count, dtype: int64)"
      ]
     },
     "execution_count": 702,
     "metadata": {},
     "output_type": "execute_result"
    }
   ],
   "source": [
    "final_balance['sff_stockout'].value_counts(), final_balance['mean_stockout'].value_counts()"
   ]
  },
  {
   "cell_type": "code",
   "execution_count": 703,
   "id": "c667a99a",
   "metadata": {},
   "outputs": [
    {
     "name": "stdout",
     "output_type": "stream",
     "text": [
      "units\n",
      "overstock ssf  sff_balance    2351986.0\n",
      "dtype: float64\n",
      "stockout ssf  sff_balance   -6634398.0\n",
      "dtype: float64\n",
      "-------------\n",
      "overstock mean  mean_balance    3782089.0\n",
      "dtype: float64\n",
      "stockout mean  mean_balance   -5435079.0\n",
      "dtype: float64\n",
      "-------------\n",
      "AVG. SFF BALANCE sff_balance   -19554.392694\n",
      "dtype: float64\n",
      "AVG. MEAN BALANCE mean_balance   -7547.899543\n",
      "dtype: float64\n",
      "----------------------------------------\n",
      "costs\n",
      "overstock ssf  sff_cost    470397.2\n",
      "dtype: float64\n",
      "stockout ssff  sff_cost    4312358.7\n",
      "dtype: float64\n",
      "-------------\n",
      "overstock mean   mean_cost    756417.8\n",
      "dtype: float64\n",
      "stockout mean   mean_cost    3532801.35\n",
      "dtype: float64\n"
     ]
    }
   ],
   "source": [
    "print('units')\n",
    "print( 'overstock ssf ',final_balance[final_balance['sff_stockout'] == False][['sff_balance']].sum())\n",
    "print(  'stockout ssf ', final_balance[final_balance['sff_stockout'] == True][['sff_balance']].sum())\n",
    "print('-------------')\n",
    "print( 'overstock mean ', final_balance[final_balance['mean_stockout'] == False][['mean_balance']].sum())\n",
    "print(  'stockout mean ', final_balance[final_balance['mean_stockout'] == True][['mean_balance']].sum())\n",
    "print('-------------')\n",
    "print('AVG. SFF BALANCE', final_balance[['sff_balance']].mean())\n",
    "print('AVG. MEAN BALANCE', final_balance[['mean_balance']].mean())\n",
    "\n",
    "print('----------------------------------------')\n",
    "print('costs')\n",
    "print( 'overstock ssf ',final_balance[final_balance['sff_stockout'] == False][['sff_cost']].sum())\n",
    "print(  'stockout ssff ', final_balance[final_balance['sff_stockout'] == True][['sff_cost']].sum())\n",
    "print('-------------')\n",
    "print( 'overstock mean  ', final_balance[final_balance['mean_stockout'] == False][['mean_cost']].sum())\n",
    "print(  'stockout mean  ', final_balance[final_balance['mean_stockout'] == True][['mean_cost']].sum())"
   ]
  },
  {
   "cell_type": "markdown",
   "id": "6846587a",
   "metadata": {},
   "source": [
    "# Cluster 1 "
   ]
  },
  {
   "cell_type": "code",
   "execution_count": 704,
   "id": "22263f6d",
   "metadata": {},
   "outputs": [
    {
     "name": "stdout",
     "output_type": "stream",
     "text": [
      "53741386.5 55376891.14999999\n",
      "1635504.649999991\n"
     ]
    }
   ],
   "source": [
    "cluster = 1\n",
    "final_balance = inference(start_simulation_date, end_simulation_date, preds, unit_cost, price_cost, cluster)\n",
    "\n",
    "print(final_balance['sff_cost'].sum(), final_balance['mean_cost'].sum())\n",
    "print(final_balance['mean_cost'].sum() - final_balance['sff_cost'].sum())"
   ]
  },
  {
   "cell_type": "code",
   "execution_count": 705,
   "id": "3cbd423f",
   "metadata": {},
   "outputs": [
    {
     "data": {
      "text/plain": [
       "(sff_stockout\n",
       " True     110\n",
       " False     88\n",
       " Name: count, dtype: int64,\n",
       " mean_stockout\n",
       " True     150\n",
       " False     48\n",
       " Name: count, dtype: int64)"
      ]
     },
     "execution_count": 705,
     "metadata": {},
     "output_type": "execute_result"
    }
   ],
   "source": [
    "final_balance['sff_stockout'].value_counts(), final_balance['mean_stockout'].value_counts()"
   ]
  },
  {
   "cell_type": "code",
   "execution_count": 706,
   "id": "c688fd4f",
   "metadata": {},
   "outputs": [
    {
     "name": "stdout",
     "output_type": "stream",
     "text": [
      "units\n",
      "overstock ssf  sff_balance    31181495.0\n",
      "dtype: float64\n",
      "stockout ssf  sff_balance   -73084750.0\n",
      "dtype: float64\n",
      "-------------\n",
      "overstock mean  mean_balance    28404136.0\n",
      "dtype: float64\n",
      "stockout mean  mean_balance   -76455483.0\n",
      "dtype: float64\n",
      "-------------\n",
      "AVG. SFF BALANCE sff_balance   -211632.60101\n",
      "dtype: float64\n",
      "AVG. MEAN BALANCE mean_balance   -242683.570707\n",
      "dtype: float64\n",
      "----------------------------------------\n",
      "costs\n",
      "overstock ssf  sff_cost    6236299.0\n",
      "dtype: float64\n",
      "stockout ssff  sff_cost    47505087.5\n",
      "dtype: float64\n",
      "-------------\n",
      "overstock mean   mean_cost    5680827.2\n",
      "dtype: float64\n",
      "stockout mean   mean_cost    49696063.95\n",
      "dtype: float64\n"
     ]
    }
   ],
   "source": [
    "print('units')\n",
    "print( 'overstock ssf ',final_balance[final_balance['sff_stockout'] == False][['sff_balance']].sum())\n",
    "print(  'stockout ssf ', final_balance[final_balance['sff_stockout'] == True][['sff_balance']].sum())\n",
    "print('-------------')\n",
    "print( 'overstock mean ', final_balance[final_balance['mean_stockout'] == False][['mean_balance']].sum())\n",
    "print(  'stockout mean ', final_balance[final_balance['mean_stockout'] == True][['mean_balance']].sum())\n",
    "print('-------------')\n",
    "print('AVG. SFF BALANCE', final_balance[['sff_balance']].mean())\n",
    "print('AVG. MEAN BALANCE', final_balance[['mean_balance']].mean())\n",
    "print('----------------------------------------')\n",
    "print('costs')\n",
    "print( 'overstock ssf ',final_balance[final_balance['sff_stockout'] == False][['sff_cost']].sum())\n",
    "print(  'stockout ssff ', final_balance[final_balance['sff_stockout'] == True][['sff_cost']].sum())\n",
    "print('-------------')\n",
    "print( 'overstock mean  ', final_balance[final_balance['mean_stockout'] == False][['mean_cost']].sum())\n",
    "print(  'stockout mean  ', final_balance[final_balance['mean_stockout'] == True][['mean_cost']].sum())"
   ]
  },
  {
   "cell_type": "markdown",
   "id": "fb3f11b1",
   "metadata": {},
   "source": [
    "# Cluster 2"
   ]
  },
  {
   "cell_type": "code",
   "execution_count": 707,
   "id": "3a5f661b",
   "metadata": {},
   "outputs": [
    {
     "name": "stdout",
     "output_type": "stream",
     "text": [
      "11139988.05 13651564.5\n",
      "2511576.4499999993\n"
     ]
    }
   ],
   "source": [
    "cluster = 2\n",
    "final_balance = inference(start_simulation_date, end_simulation_date, preds, unit_cost, price_cost, cluster)\n",
    "\n",
    "print(final_balance['sff_cost'].sum(), final_balance['mean_cost'].sum())\n",
    "print(final_balance['mean_cost'].sum() - final_balance['sff_cost'].sum())"
   ]
  },
  {
   "cell_type": "code",
   "execution_count": 708,
   "id": "cef73198",
   "metadata": {},
   "outputs": [
    {
     "data": {
      "text/plain": [
       "(sff_stockout\n",
       " True     128\n",
       " False     95\n",
       " Name: count, dtype: int64,\n",
       " mean_stockout\n",
       " True     169\n",
       " False     54\n",
       " Name: count, dtype: int64)"
      ]
     },
     "execution_count": 708,
     "metadata": {},
     "output_type": "execute_result"
    }
   ],
   "source": [
    "final_balance['sff_stockout'].value_counts(), final_balance['mean_stockout'].value_counts()"
   ]
  },
  {
   "cell_type": "code",
   "execution_count": 709,
   "id": "82ac0c5c",
   "metadata": {},
   "outputs": [
    {
     "name": "stdout",
     "output_type": "stream",
     "text": [
      "units\n",
      "overstock ssf  sff_balance    7767065.0\n",
      "dtype: float64\n",
      "stockout ssf  sff_balance   -14748577.0\n",
      "dtype: float64\n",
      "-------------\n",
      "overstock mean  mean_balance    4424540.0\n",
      "dtype: float64\n",
      "stockout mean  mean_balance   -19641010.0\n",
      "dtype: float64\n",
      "-------------\n",
      "AVG. SFF BALANCE sff_balance   -31307.2287\n",
      "dtype: float64\n",
      "AVG. MEAN BALANCE mean_balance   -68235.29148\n",
      "dtype: float64\n",
      "----------------------------------------\n",
      "costs\n",
      "overstock ssf  sff_cost    1553413.0\n",
      "dtype: float64\n",
      "stockout ssff  sff_cost    9586575.05\n",
      "dtype: float64\n",
      "-------------\n",
      "overstock mean   mean_cost    884908.0\n",
      "dtype: float64\n",
      "stockout mean   mean_cost    12766656.5\n",
      "dtype: float64\n"
     ]
    }
   ],
   "source": [
    "print('units')\n",
    "print( 'overstock ssf ',final_balance[final_balance['sff_stockout'] == False][['sff_balance']].sum())\n",
    "print(  'stockout ssf ', final_balance[final_balance['sff_stockout'] == True][['sff_balance']].sum())\n",
    "print('-------------')\n",
    "print( 'overstock mean ', final_balance[final_balance['mean_stockout'] == False][['mean_balance']].sum())\n",
    "print(  'stockout mean ', final_balance[final_balance['mean_stockout'] == True][['mean_balance']].sum())\n",
    "print('-------------')\n",
    "print('AVG. SFF BALANCE', final_balance[['sff_balance']].mean())\n",
    "print('AVG. MEAN BALANCE', final_balance[['mean_balance']].mean())\n",
    "print('----------------------------------------')\n",
    "print('costs')\n",
    "print( 'overstock ssf ',final_balance[final_balance['sff_stockout'] == False][['sff_cost']].sum())\n",
    "print(  'stockout ssff ', final_balance[final_balance['sff_stockout'] == True][['sff_cost']].sum())\n",
    "print('-------------')\n",
    "print( 'overstock mean  ', final_balance[final_balance['mean_stockout'] == False][['mean_cost']].sum())\n",
    "print(  'stockout mean  ', final_balance[final_balance['mean_stockout'] == True][['mean_cost']].sum())"
   ]
  },
  {
   "cell_type": "markdown",
   "id": "155fc82f",
   "metadata": {},
   "source": [
    "# QC"
   ]
  },
  {
   "cell_type": "code",
   "execution_count": 202,
   "id": "37b1e334",
   "metadata": {},
   "outputs": [],
   "source": [
    "class Metrics:\n",
    "    @staticmethod\n",
    "    def mean_squared_error(y_true, y_pred):\n",
    "        \"\"\"\n",
    "        Calculate Mean Squared Error (MSE).\n",
    "        \n",
    "        Parameters:\n",
    "        y_true (array-like): Array of real values.\n",
    "        y_pred (array-like): Array of predicted values.\n",
    "        \n",
    "        Returns:\n",
    "        float: Mean Squared Error.\n",
    "        \"\"\"\n",
    "        n = len(y_true)\n",
    "        mse = np.sum((y_true - y_pred) ** 2) / n\n",
    "        return mse\n",
    "\n",
    "    @staticmethod\n",
    "    def root_mean_squared_error(y_true, y_pred):\n",
    "        \"\"\"\n",
    "        Calculate Root Mean Squared Error (RMSE).\n",
    "        \n",
    "        Parameters:\n",
    "        y_true (array-like): Array of real values.\n",
    "        y_pred (array-like): Array of predicted values.\n",
    "        \n",
    "        Returns:\n",
    "        float: Root Mean Squared Error.\n",
    "        \"\"\"\n",
    "        mse = Metrics.mean_squared_error(y_true, y_pred)\n",
    "        rmse = np.sqrt(mse)\n",
    "        return rmse\n",
    "    \n",
    "    def calculate_metrics(self, group):\n",
    "        y_true = group['cant_vta']\n",
    "        metrics = {}\n",
    "\n",
    "        # Identify all columns that start with 'cant_vta_pred_'\n",
    "        pred_columns = [col for col in group.columns if col.startswith('cant_vta_pred_')]\n",
    "\n",
    "        for col in pred_columns:\n",
    "            mse = round(Metrics.mean_squared_error(y_true, group[col]),1)\n",
    "            rmse = round(Metrics.root_mean_squared_error(y_true, group[col]),1)\n",
    "            metrics[f'mse_{col}'] = mse\n",
    "            metrics[f'rmse_{col}'] = rmse\n",
    "\n",
    "        return pd.Series(metrics)\n",
    "\n",
    "    def create_summary_dataframe(self, test_df):\n",
    "        # TODO: ANALIZE WHAT TO DO WHEN THERE ARE NULLS IN THE REAL VALUES\n",
    "        summary_df = test_df.groupby(['pdv_codigo', 'codigo_barras_sku']).apply(self.calculate_metrics).reset_index()\n",
    "\n",
    "        rmse_columns = [col for col in summary_df.columns if col.startswith('rmse_')]\n",
    "        mse_columns = [col for col in summary_df.columns if col.startswith('mse_')]\n",
    "\n",
    "        \n",
    "        summary_df['best_rmse'] = summary_df[rmse_columns].idxmin(axis=1)\n",
    "        summary_df['best_mse'] = summary_df[mse_columns].idxmin(axis=1)\n",
    "\n",
    "        return summary_df"
   ]
  },
  {
   "cell_type": "code",
   "execution_count": 208,
   "id": "65965aa4",
   "metadata": {},
   "outputs": [],
   "source": [
    "preds_0 = preds[preds['cluster_sku'] == 0]\n",
    "preds_1 = preds[preds['cluster_sku'] == 1]\n",
    "preds_2 = preds[preds['cluster_sku'] == 2]"
   ]
  },
  {
   "cell_type": "code",
   "execution_count": 204,
   "id": "34d8db24",
   "metadata": {},
   "outputs": [
    {
     "name": "stderr",
     "output_type": "stream",
     "text": [
      "/var/folders/g4/21kk_yqn4h75mgg_8hcjcsx80000gn/T/ipykernel_44093/3537863226.py:51: DeprecationWarning: DataFrameGroupBy.apply operated on the grouping columns. This behavior is deprecated, and in a future version of pandas the grouping columns will be excluded from the operation. Either pass `include_groups=False` to exclude the groupings or explicitly select the grouping columns after groupby to silence this warning.\n",
      "  summary_df = test_df.groupby(['pdv_codigo', 'codigo_barras_sku']).apply(self.calculate_metrics).reset_index()\n"
     ]
    }
   ],
   "source": [
    "summary_df = Metrics().create_summary_dataframe(preds)"
   ]
  },
  {
   "cell_type": "code",
   "execution_count": 206,
   "id": "2957f147",
   "metadata": {},
   "outputs": [
    {
     "name": "stdout",
     "output_type": "stream",
     "text": [
      "15715.3 54648.73187500001\n",
      "17826.6 59399.79718749999\n"
     ]
    }
   ],
   "source": [
    "print(summary_df['rmse_cant_vta_pred_sff_mean'].median(), summary_df['rmse_cant_vta_pred_sff_mean'].mean())\n",
    "\n",
    "print(summary_df['rmse_cant_vta_pred_mean_pdv_sku'].median(), summary_df['rmse_cant_vta_pred_mean_pdv_sku'].mean())"
   ]
  },
  {
   "cell_type": "code",
   "execution_count": 209,
   "id": "9d9af786",
   "metadata": {},
   "outputs": [
    {
     "name": "stderr",
     "output_type": "stream",
     "text": [
      "/var/folders/g4/21kk_yqn4h75mgg_8hcjcsx80000gn/T/ipykernel_44093/3537863226.py:51: DeprecationWarning: DataFrameGroupBy.apply operated on the grouping columns. This behavior is deprecated, and in a future version of pandas the grouping columns will be excluded from the operation. Either pass `include_groups=False` to exclude the groupings or explicitly select the grouping columns after groupby to silence this warning.\n",
      "  summary_df = test_df.groupby(['pdv_codigo', 'codigo_barras_sku']).apply(self.calculate_metrics).reset_index()\n",
      "/var/folders/g4/21kk_yqn4h75mgg_8hcjcsx80000gn/T/ipykernel_44093/3537863226.py:51: DeprecationWarning: DataFrameGroupBy.apply operated on the grouping columns. This behavior is deprecated, and in a future version of pandas the grouping columns will be excluded from the operation. Either pass `include_groups=False` to exclude the groupings or explicitly select the grouping columns after groupby to silence this warning.\n",
      "  summary_df = test_df.groupby(['pdv_codigo', 'codigo_barras_sku']).apply(self.calculate_metrics).reset_index()\n",
      "/var/folders/g4/21kk_yqn4h75mgg_8hcjcsx80000gn/T/ipykernel_44093/3537863226.py:51: DeprecationWarning: DataFrameGroupBy.apply operated on the grouping columns. This behavior is deprecated, and in a future version of pandas the grouping columns will be excluded from the operation. Either pass `include_groups=False` to exclude the groupings or explicitly select the grouping columns after groupby to silence this warning.\n",
      "  summary_df = test_df.groupby(['pdv_codigo', 'codigo_barras_sku']).apply(self.calculate_metrics).reset_index()\n"
     ]
    }
   ],
   "source": [
    "sff_0 = Metrics().create_summary_dataframe(preds_0)\n",
    "sff_1 = Metrics().create_summary_dataframe(preds_1)\n",
    "sff_2 = Metrics().create_summary_dataframe(preds_2)\n"
   ]
  },
  {
   "cell_type": "code",
   "execution_count": 211,
   "id": "a80bd3d5",
   "metadata": {},
   "outputs": [
    {
     "name": "stdout",
     "output_type": "stream",
     "text": [
      "6252.3 9028.149315068495\n",
      "6626.7 9245.24794520548\n",
      "-------------------------\n",
      "29804.050000000003 135440.87323232324\n",
      "38956.85 147077.27979797978\n",
      "-------------------------\n",
      "16190.5 27716.28161434978\n",
      "19162.7 30806.54484304933\n"
     ]
    }
   ],
   "source": [
    "print(sff_0['rmse_cant_vta_pred_sff_mean'].median(),sff_0['rmse_cant_vta_pred_sff_mean'].mean())\n",
    "print(sff_0['rmse_cant_vta_pred_mean_pdv_sku'].median(),sff_0['rmse_cant_vta_pred_mean_pdv_sku'].mean())\n",
    "\n",
    "print('-------------------------')\n",
    "\n",
    "print(sff_1['rmse_cant_vta_pred_sff_mean'].median(),sff_1['rmse_cant_vta_pred_sff_mean'].mean())\n",
    "print(sff_1['rmse_cant_vta_pred_mean_pdv_sku'].median(),sff_1['rmse_cant_vta_pred_mean_pdv_sku'].mean())\n",
    "\n",
    "print('-------------------------')\n",
    "\n",
    "print(sff_2['rmse_cant_vta_pred_sff_mean'].median(),sff_2['rmse_cant_vta_pred_sff_mean'].mean())\n",
    "print(sff_2['rmse_cant_vta_pred_mean_pdv_sku'].median(),sff_2['rmse_cant_vta_pred_mean_pdv_sku'].mean())"
   ]
  },
  {
   "cell_type": "code",
   "execution_count": null,
   "id": "1f4b2d46",
   "metadata": {},
   "outputs": [],
   "source": []
  }
 ],
 "metadata": {
  "kernelspec": {
   "display_name": "thesis",
   "language": "python",
   "name": "python3"
  },
  "language_info": {
   "codemirror_mode": {
    "name": "ipython",
    "version": 3
   },
   "file_extension": ".py",
   "mimetype": "text/x-python",
   "name": "python",
   "nbconvert_exporter": "python",
   "pygments_lexer": "ipython3",
   "version": "3.9.21"
  }
 },
 "nbformat": 4,
 "nbformat_minor": 5
}
